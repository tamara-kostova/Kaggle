{
 "cells": [
  {
   "cell_type": "code",
   "execution_count": 1,
   "id": "4dc9ab98",
   "metadata": {
    "_cell_guid": "b1076dfc-b9ad-4769-8c92-a6c4dae69d19",
    "_uuid": "8f2839f25d086af736a60e9eeb907d3b93b6e0e5",
    "execution": {
     "iopub.execute_input": "2024-02-26T15:23:54.043295Z",
     "iopub.status.busy": "2024-02-26T15:23:54.042244Z",
     "iopub.status.idle": "2024-02-26T15:24:10.483134Z",
     "shell.execute_reply": "2024-02-26T15:24:10.482133Z"
    },
    "papermill": {
     "duration": 16.45108,
     "end_time": "2024-02-26T15:24:10.485807",
     "exception": false,
     "start_time": "2024-02-26T15:23:54.034727",
     "status": "completed"
    },
    "tags": []
   },
   "outputs": [
    {
     "name": "stderr",
     "output_type": "stream",
     "text": [
      "2024-02-26 15:23:58.308092: E external/local_xla/xla/stream_executor/cuda/cuda_dnn.cc:9261] Unable to register cuDNN factory: Attempting to register factory for plugin cuDNN when one has already been registered\n",
      "2024-02-26 15:23:58.308202: E external/local_xla/xla/stream_executor/cuda/cuda_fft.cc:607] Unable to register cuFFT factory: Attempting to register factory for plugin cuFFT when one has already been registered\n",
      "2024-02-26 15:23:58.463383: E external/local_xla/xla/stream_executor/cuda/cuda_blas.cc:1515] Unable to register cuBLAS factory: Attempting to register factory for plugin cuBLAS when one has already been registered\n"
     ]
    }
   ],
   "source": [
    "import pandas as pd\n",
    "import numpy as np\n",
    "import seaborn as sns\n",
    "from tensorflow.keras.utils import to_categorical\n",
    "import matplotlib.pyplot as plt\n",
    "from sklearn.model_selection import train_test_split\n",
    "\n",
    "from keras.models import Sequential\n",
    "from keras.layers import Dense, Dropout, Flatten, Conv2D, MaxPool2D\n",
    "from keras.optimizers import RMSprop\n",
    "from keras.preprocessing.image import ImageDataGenerator\n",
    "from keras.callbacks import ReduceLROnPlateau"
   ]
  },
  {
   "cell_type": "markdown",
   "id": "a64a85b2",
   "metadata": {
    "papermill": {
     "duration": 0.005057,
     "end_time": "2024-02-26T15:24:10.496406",
     "exception": false,
     "start_time": "2024-02-26T15:24:10.491349",
     "status": "completed"
    },
    "tags": []
   },
   "source": [
    "**Data preparation**"
   ]
  },
  {
   "cell_type": "code",
   "execution_count": 2,
   "id": "8e962d55",
   "metadata": {
    "execution": {
     "iopub.execute_input": "2024-02-26T15:24:10.508989Z",
     "iopub.status.busy": "2024-02-26T15:24:10.508276Z",
     "iopub.status.idle": "2024-02-26T15:24:14.027969Z",
     "shell.execute_reply": "2024-02-26T15:24:14.026731Z"
    },
    "papermill": {
     "duration": 3.528663,
     "end_time": "2024-02-26T15:24:14.030295",
     "exception": false,
     "start_time": "2024-02-26T15:24:10.501632",
     "status": "completed"
    },
    "tags": []
   },
   "outputs": [
    {
     "data": {
      "text/html": [
       "<div>\n",
       "<style scoped>\n",
       "    .dataframe tbody tr th:only-of-type {\n",
       "        vertical-align: middle;\n",
       "    }\n",
       "\n",
       "    .dataframe tbody tr th {\n",
       "        vertical-align: top;\n",
       "    }\n",
       "\n",
       "    .dataframe thead th {\n",
       "        text-align: right;\n",
       "    }\n",
       "</style>\n",
       "<table border=\"1\" class=\"dataframe\">\n",
       "  <thead>\n",
       "    <tr style=\"text-align: right;\">\n",
       "      <th></th>\n",
       "      <th>label</th>\n",
       "      <th>pixel0</th>\n",
       "      <th>pixel1</th>\n",
       "      <th>pixel2</th>\n",
       "      <th>pixel3</th>\n",
       "      <th>pixel4</th>\n",
       "      <th>pixel5</th>\n",
       "      <th>pixel6</th>\n",
       "      <th>pixel7</th>\n",
       "      <th>pixel8</th>\n",
       "      <th>...</th>\n",
       "      <th>pixel774</th>\n",
       "      <th>pixel775</th>\n",
       "      <th>pixel776</th>\n",
       "      <th>pixel777</th>\n",
       "      <th>pixel778</th>\n",
       "      <th>pixel779</th>\n",
       "      <th>pixel780</th>\n",
       "      <th>pixel781</th>\n",
       "      <th>pixel782</th>\n",
       "      <th>pixel783</th>\n",
       "    </tr>\n",
       "  </thead>\n",
       "  <tbody>\n",
       "    <tr>\n",
       "      <th>0</th>\n",
       "      <td>1</td>\n",
       "      <td>0</td>\n",
       "      <td>0</td>\n",
       "      <td>0</td>\n",
       "      <td>0</td>\n",
       "      <td>0</td>\n",
       "      <td>0</td>\n",
       "      <td>0</td>\n",
       "      <td>0</td>\n",
       "      <td>0</td>\n",
       "      <td>...</td>\n",
       "      <td>0</td>\n",
       "      <td>0</td>\n",
       "      <td>0</td>\n",
       "      <td>0</td>\n",
       "      <td>0</td>\n",
       "      <td>0</td>\n",
       "      <td>0</td>\n",
       "      <td>0</td>\n",
       "      <td>0</td>\n",
       "      <td>0</td>\n",
       "    </tr>\n",
       "    <tr>\n",
       "      <th>1</th>\n",
       "      <td>0</td>\n",
       "      <td>0</td>\n",
       "      <td>0</td>\n",
       "      <td>0</td>\n",
       "      <td>0</td>\n",
       "      <td>0</td>\n",
       "      <td>0</td>\n",
       "      <td>0</td>\n",
       "      <td>0</td>\n",
       "      <td>0</td>\n",
       "      <td>...</td>\n",
       "      <td>0</td>\n",
       "      <td>0</td>\n",
       "      <td>0</td>\n",
       "      <td>0</td>\n",
       "      <td>0</td>\n",
       "      <td>0</td>\n",
       "      <td>0</td>\n",
       "      <td>0</td>\n",
       "      <td>0</td>\n",
       "      <td>0</td>\n",
       "    </tr>\n",
       "    <tr>\n",
       "      <th>2</th>\n",
       "      <td>1</td>\n",
       "      <td>0</td>\n",
       "      <td>0</td>\n",
       "      <td>0</td>\n",
       "      <td>0</td>\n",
       "      <td>0</td>\n",
       "      <td>0</td>\n",
       "      <td>0</td>\n",
       "      <td>0</td>\n",
       "      <td>0</td>\n",
       "      <td>...</td>\n",
       "      <td>0</td>\n",
       "      <td>0</td>\n",
       "      <td>0</td>\n",
       "      <td>0</td>\n",
       "      <td>0</td>\n",
       "      <td>0</td>\n",
       "      <td>0</td>\n",
       "      <td>0</td>\n",
       "      <td>0</td>\n",
       "      <td>0</td>\n",
       "    </tr>\n",
       "    <tr>\n",
       "      <th>3</th>\n",
       "      <td>4</td>\n",
       "      <td>0</td>\n",
       "      <td>0</td>\n",
       "      <td>0</td>\n",
       "      <td>0</td>\n",
       "      <td>0</td>\n",
       "      <td>0</td>\n",
       "      <td>0</td>\n",
       "      <td>0</td>\n",
       "      <td>0</td>\n",
       "      <td>...</td>\n",
       "      <td>0</td>\n",
       "      <td>0</td>\n",
       "      <td>0</td>\n",
       "      <td>0</td>\n",
       "      <td>0</td>\n",
       "      <td>0</td>\n",
       "      <td>0</td>\n",
       "      <td>0</td>\n",
       "      <td>0</td>\n",
       "      <td>0</td>\n",
       "    </tr>\n",
       "    <tr>\n",
       "      <th>4</th>\n",
       "      <td>0</td>\n",
       "      <td>0</td>\n",
       "      <td>0</td>\n",
       "      <td>0</td>\n",
       "      <td>0</td>\n",
       "      <td>0</td>\n",
       "      <td>0</td>\n",
       "      <td>0</td>\n",
       "      <td>0</td>\n",
       "      <td>0</td>\n",
       "      <td>...</td>\n",
       "      <td>0</td>\n",
       "      <td>0</td>\n",
       "      <td>0</td>\n",
       "      <td>0</td>\n",
       "      <td>0</td>\n",
       "      <td>0</td>\n",
       "      <td>0</td>\n",
       "      <td>0</td>\n",
       "      <td>0</td>\n",
       "      <td>0</td>\n",
       "    </tr>\n",
       "  </tbody>\n",
       "</table>\n",
       "<p>5 rows × 785 columns</p>\n",
       "</div>"
      ],
      "text/plain": [
       "   label  pixel0  pixel1  pixel2  pixel3  pixel4  pixel5  pixel6  pixel7  \\\n",
       "0      1       0       0       0       0       0       0       0       0   \n",
       "1      0       0       0       0       0       0       0       0       0   \n",
       "2      1       0       0       0       0       0       0       0       0   \n",
       "3      4       0       0       0       0       0       0       0       0   \n",
       "4      0       0       0       0       0       0       0       0       0   \n",
       "\n",
       "   pixel8  ...  pixel774  pixel775  pixel776  pixel777  pixel778  pixel779  \\\n",
       "0       0  ...         0         0         0         0         0         0   \n",
       "1       0  ...         0         0         0         0         0         0   \n",
       "2       0  ...         0         0         0         0         0         0   \n",
       "3       0  ...         0         0         0         0         0         0   \n",
       "4       0  ...         0         0         0         0         0         0   \n",
       "\n",
       "   pixel780  pixel781  pixel782  pixel783  \n",
       "0         0         0         0         0  \n",
       "1         0         0         0         0  \n",
       "2         0         0         0         0  \n",
       "3         0         0         0         0  \n",
       "4         0         0         0         0  \n",
       "\n",
       "[5 rows x 785 columns]"
      ]
     },
     "execution_count": 2,
     "metadata": {},
     "output_type": "execute_result"
    }
   ],
   "source": [
    "train = pd.read_csv(\"/kaggle/input/digit-recognizer/train.csv\")\n",
    "train_y = train['label']\n",
    "train_x = train.drop(labels = ['label'], axis=1)\n",
    "train.head()"
   ]
  },
  {
   "cell_type": "code",
   "execution_count": 3,
   "id": "cc568a20",
   "metadata": {
    "execution": {
     "iopub.execute_input": "2024-02-26T15:24:14.043226Z",
     "iopub.status.busy": "2024-02-26T15:24:14.042838Z",
     "iopub.status.idle": "2024-02-26T15:24:15.928136Z",
     "shell.execute_reply": "2024-02-26T15:24:15.926917Z"
    },
    "papermill": {
     "duration": 1.894561,
     "end_time": "2024-02-26T15:24:15.930552",
     "exception": false,
     "start_time": "2024-02-26T15:24:14.035991",
     "status": "completed"
    },
    "tags": []
   },
   "outputs": [
    {
     "data": {
      "text/html": [
       "<div>\n",
       "<style scoped>\n",
       "    .dataframe tbody tr th:only-of-type {\n",
       "        vertical-align: middle;\n",
       "    }\n",
       "\n",
       "    .dataframe tbody tr th {\n",
       "        vertical-align: top;\n",
       "    }\n",
       "\n",
       "    .dataframe thead th {\n",
       "        text-align: right;\n",
       "    }\n",
       "</style>\n",
       "<table border=\"1\" class=\"dataframe\">\n",
       "  <thead>\n",
       "    <tr style=\"text-align: right;\">\n",
       "      <th></th>\n",
       "      <th>pixel0</th>\n",
       "      <th>pixel1</th>\n",
       "      <th>pixel2</th>\n",
       "      <th>pixel3</th>\n",
       "      <th>pixel4</th>\n",
       "      <th>pixel5</th>\n",
       "      <th>pixel6</th>\n",
       "      <th>pixel7</th>\n",
       "      <th>pixel8</th>\n",
       "      <th>pixel9</th>\n",
       "      <th>...</th>\n",
       "      <th>pixel774</th>\n",
       "      <th>pixel775</th>\n",
       "      <th>pixel776</th>\n",
       "      <th>pixel777</th>\n",
       "      <th>pixel778</th>\n",
       "      <th>pixel779</th>\n",
       "      <th>pixel780</th>\n",
       "      <th>pixel781</th>\n",
       "      <th>pixel782</th>\n",
       "      <th>pixel783</th>\n",
       "    </tr>\n",
       "  </thead>\n",
       "  <tbody>\n",
       "    <tr>\n",
       "      <th>0</th>\n",
       "      <td>0</td>\n",
       "      <td>0</td>\n",
       "      <td>0</td>\n",
       "      <td>0</td>\n",
       "      <td>0</td>\n",
       "      <td>0</td>\n",
       "      <td>0</td>\n",
       "      <td>0</td>\n",
       "      <td>0</td>\n",
       "      <td>0</td>\n",
       "      <td>...</td>\n",
       "      <td>0</td>\n",
       "      <td>0</td>\n",
       "      <td>0</td>\n",
       "      <td>0</td>\n",
       "      <td>0</td>\n",
       "      <td>0</td>\n",
       "      <td>0</td>\n",
       "      <td>0</td>\n",
       "      <td>0</td>\n",
       "      <td>0</td>\n",
       "    </tr>\n",
       "    <tr>\n",
       "      <th>1</th>\n",
       "      <td>0</td>\n",
       "      <td>0</td>\n",
       "      <td>0</td>\n",
       "      <td>0</td>\n",
       "      <td>0</td>\n",
       "      <td>0</td>\n",
       "      <td>0</td>\n",
       "      <td>0</td>\n",
       "      <td>0</td>\n",
       "      <td>0</td>\n",
       "      <td>...</td>\n",
       "      <td>0</td>\n",
       "      <td>0</td>\n",
       "      <td>0</td>\n",
       "      <td>0</td>\n",
       "      <td>0</td>\n",
       "      <td>0</td>\n",
       "      <td>0</td>\n",
       "      <td>0</td>\n",
       "      <td>0</td>\n",
       "      <td>0</td>\n",
       "    </tr>\n",
       "    <tr>\n",
       "      <th>2</th>\n",
       "      <td>0</td>\n",
       "      <td>0</td>\n",
       "      <td>0</td>\n",
       "      <td>0</td>\n",
       "      <td>0</td>\n",
       "      <td>0</td>\n",
       "      <td>0</td>\n",
       "      <td>0</td>\n",
       "      <td>0</td>\n",
       "      <td>0</td>\n",
       "      <td>...</td>\n",
       "      <td>0</td>\n",
       "      <td>0</td>\n",
       "      <td>0</td>\n",
       "      <td>0</td>\n",
       "      <td>0</td>\n",
       "      <td>0</td>\n",
       "      <td>0</td>\n",
       "      <td>0</td>\n",
       "      <td>0</td>\n",
       "      <td>0</td>\n",
       "    </tr>\n",
       "    <tr>\n",
       "      <th>3</th>\n",
       "      <td>0</td>\n",
       "      <td>0</td>\n",
       "      <td>0</td>\n",
       "      <td>0</td>\n",
       "      <td>0</td>\n",
       "      <td>0</td>\n",
       "      <td>0</td>\n",
       "      <td>0</td>\n",
       "      <td>0</td>\n",
       "      <td>0</td>\n",
       "      <td>...</td>\n",
       "      <td>0</td>\n",
       "      <td>0</td>\n",
       "      <td>0</td>\n",
       "      <td>0</td>\n",
       "      <td>0</td>\n",
       "      <td>0</td>\n",
       "      <td>0</td>\n",
       "      <td>0</td>\n",
       "      <td>0</td>\n",
       "      <td>0</td>\n",
       "    </tr>\n",
       "    <tr>\n",
       "      <th>4</th>\n",
       "      <td>0</td>\n",
       "      <td>0</td>\n",
       "      <td>0</td>\n",
       "      <td>0</td>\n",
       "      <td>0</td>\n",
       "      <td>0</td>\n",
       "      <td>0</td>\n",
       "      <td>0</td>\n",
       "      <td>0</td>\n",
       "      <td>0</td>\n",
       "      <td>...</td>\n",
       "      <td>0</td>\n",
       "      <td>0</td>\n",
       "      <td>0</td>\n",
       "      <td>0</td>\n",
       "      <td>0</td>\n",
       "      <td>0</td>\n",
       "      <td>0</td>\n",
       "      <td>0</td>\n",
       "      <td>0</td>\n",
       "      <td>0</td>\n",
       "    </tr>\n",
       "  </tbody>\n",
       "</table>\n",
       "<p>5 rows × 784 columns</p>\n",
       "</div>"
      ],
      "text/plain": [
       "   pixel0  pixel1  pixel2  pixel3  pixel4  pixel5  pixel6  pixel7  pixel8  \\\n",
       "0       0       0       0       0       0       0       0       0       0   \n",
       "1       0       0       0       0       0       0       0       0       0   \n",
       "2       0       0       0       0       0       0       0       0       0   \n",
       "3       0       0       0       0       0       0       0       0       0   \n",
       "4       0       0       0       0       0       0       0       0       0   \n",
       "\n",
       "   pixel9  ...  pixel774  pixel775  pixel776  pixel777  pixel778  pixel779  \\\n",
       "0       0  ...         0         0         0         0         0         0   \n",
       "1       0  ...         0         0         0         0         0         0   \n",
       "2       0  ...         0         0         0         0         0         0   \n",
       "3       0  ...         0         0         0         0         0         0   \n",
       "4       0  ...         0         0         0         0         0         0   \n",
       "\n",
       "   pixel780  pixel781  pixel782  pixel783  \n",
       "0         0         0         0         0  \n",
       "1         0         0         0         0  \n",
       "2         0         0         0         0  \n",
       "3         0         0         0         0  \n",
       "4         0         0         0         0  \n",
       "\n",
       "[5 rows x 784 columns]"
      ]
     },
     "execution_count": 3,
     "metadata": {},
     "output_type": "execute_result"
    }
   ],
   "source": [
    "test = pd.read_csv(\"/kaggle/input/digit-recognizer/test.csv\")\n",
    "test.head()"
   ]
  },
  {
   "cell_type": "code",
   "execution_count": 4,
   "id": "c33229c3",
   "metadata": {
    "execution": {
     "iopub.execute_input": "2024-02-26T15:24:15.945628Z",
     "iopub.status.busy": "2024-02-26T15:24:15.945195Z",
     "iopub.status.idle": "2024-02-26T15:24:16.184922Z",
     "shell.execute_reply": "2024-02-26T15:24:16.183549Z"
    },
    "papermill": {
     "duration": 0.25024,
     "end_time": "2024-02-26T15:24:16.187401",
     "exception": false,
     "start_time": "2024-02-26T15:24:15.937161",
     "status": "completed"
    },
    "tags": []
   },
   "outputs": [
    {
     "data": {
      "image/png": "[encoded data removed]",
      "text/plain": [
       "<Figure size 1000x600 with 1 Axes>"
      ]
     },
     "metadata": {},
     "output_type": "display_data"
    }
   ],
   "source": [
    "value_counts = train_y.value_counts()\n",
    "value_counts = value_counts.sort_index()\n",
    "\n",
    "train_y.value_counts()\n",
    "\n",
    "plt.figure(figsize=(10, 6))\n",
    "sns.barplot(x=value_counts.index, y=value_counts.values, palette='viridis')\n",
    "plt.xticks(value_counts.index)\n",
    "plt.grid(axis='y')\n",
    "plt.show()"
   ]
  },
  {
   "cell_type": "markdown",
   "id": "f9635d32",
   "metadata": {
    "papermill": {
     "duration": 0.006056,
     "end_time": "2024-02-26T15:24:16.199778",
     "exception": false,
     "start_time": "2024-02-26T15:24:16.193722",
     "status": "completed"
    },
    "tags": []
   },
   "source": [
    "**Missing values**"
   ]
  },
  {
   "cell_type": "code",
   "execution_count": 5,
   "id": "9feadfee",
   "metadata": {
    "execution": {
     "iopub.execute_input": "2024-02-26T15:24:16.214210Z",
     "iopub.status.busy": "2024-02-26T15:24:16.213766Z",
     "iopub.status.idle": "2024-02-26T15:24:16.247870Z",
     "shell.execute_reply": "2024-02-26T15:24:16.246195Z"
    },
    "papermill": {
     "duration": 0.044005,
     "end_time": "2024-02-26T15:24:16.250212",
     "exception": false,
     "start_time": "2024-02-26T15:24:16.206207",
     "status": "completed"
    },
    "tags": []
   },
   "outputs": [
    {
     "name": "stdout",
     "output_type": "stream",
     "text": [
      "Columns with missing values:\n",
      "Series([], dtype: int64)\n"
     ]
    }
   ],
   "source": [
    "missing_val_count_by_column = train.isnull().sum()\n",
    "print('Columns with missing values:')\n",
    "print(missing_val_count_by_column[missing_val_count_by_column>0])"
   ]
  },
  {
   "cell_type": "markdown",
   "id": "2a02c2c4",
   "metadata": {
    "papermill": {
     "duration": 0.006332,
     "end_time": "2024-02-26T15:24:16.262887",
     "exception": false,
     "start_time": "2024-02-26T15:24:16.256555",
     "status": "completed"
    },
    "tags": []
   },
   "source": [
    "**Normalization**"
   ]
  },
  {
   "cell_type": "code",
   "execution_count": 6,
   "id": "bddb4c52",
   "metadata": {
    "execution": {
     "iopub.execute_input": "2024-02-26T15:24:16.277202Z",
     "iopub.status.busy": "2024-02-26T15:24:16.276828Z",
     "iopub.status.idle": "2024-02-26T15:24:16.387662Z",
     "shell.execute_reply": "2024-02-26T15:24:16.386597Z"
    },
    "papermill": {
     "duration": 0.120711,
     "end_time": "2024-02-26T15:24:16.390099",
     "exception": false,
     "start_time": "2024-02-26T15:24:16.269388",
     "status": "completed"
    },
    "tags": []
   },
   "outputs": [],
   "source": [
    "train_x = train_x / 255.0\n",
    "test = test / 255.0"
   ]
  },
  {
   "cell_type": "markdown",
   "id": "f7b99fd0",
   "metadata": {
    "papermill": {
     "duration": 0.006064,
     "end_time": "2024-02-26T15:24:16.403076",
     "exception": false,
     "start_time": "2024-02-26T15:24:16.397012",
     "status": "completed"
    },
    "tags": []
   },
   "source": [
    "**Reshape in 3D (28x28x1)**"
   ]
  },
  {
   "cell_type": "code",
   "execution_count": 7,
   "id": "3297f31b",
   "metadata": {
    "execution": {
     "iopub.execute_input": "2024-02-26T15:24:16.418502Z",
     "iopub.status.busy": "2024-02-26T15:24:16.418119Z",
     "iopub.status.idle": "2024-02-26T15:24:16.422729Z",
     "shell.execute_reply": "2024-02-26T15:24:16.421666Z"
    },
    "papermill": {
     "duration": 0.015885,
     "end_time": "2024-02-26T15:24:16.425356",
     "exception": false,
     "start_time": "2024-02-26T15:24:16.409471",
     "status": "completed"
    },
    "tags": []
   },
   "outputs": [],
   "source": [
    "train_x = train_x.values.reshape(-1,28,28,1)\n",
    "test = test.values.reshape(-1,28,28,1)"
   ]
  },
  {
   "cell_type": "markdown",
   "id": "1f010b65",
   "metadata": {
    "papermill": {
     "duration": 0.006604,
     "end_time": "2024-02-26T15:24:16.438344",
     "exception": false,
     "start_time": "2024-02-26T15:24:16.431740",
     "status": "completed"
    },
    "tags": []
   },
   "source": [
    "**Encoding**"
   ]
  },
  {
   "cell_type": "code",
   "execution_count": 8,
   "id": "74a316b4",
   "metadata": {
    "execution": {
     "iopub.execute_input": "2024-02-26T15:24:16.452937Z",
     "iopub.status.busy": "2024-02-26T15:24:16.452547Z",
     "iopub.status.idle": "2024-02-26T15:24:16.458858Z",
     "shell.execute_reply": "2024-02-26T15:24:16.457811Z"
    },
    "papermill": {
     "duration": 0.016038,
     "end_time": "2024-02-26T15:24:16.461038",
     "exception": false,
     "start_time": "2024-02-26T15:24:16.445000",
     "status": "completed"
    },
    "tags": []
   },
   "outputs": [],
   "source": [
    "train_y = to_categorical(train_y, num_classes = 10)"
   ]
  },
  {
   "cell_type": "markdown",
   "id": "68d88f66",
   "metadata": {
    "papermill": {
     "duration": 0.006126,
     "end_time": "2024-02-26T15:24:16.476881",
     "exception": false,
     "start_time": "2024-02-26T15:24:16.470755",
     "status": "completed"
    },
    "tags": []
   },
   "source": [
    "**Split dataset**"
   ]
  },
  {
   "cell_type": "code",
   "execution_count": 9,
   "id": "eb84b9ad",
   "metadata": {
    "execution": {
     "iopub.execute_input": "2024-02-26T15:24:16.491054Z",
     "iopub.status.busy": "2024-02-26T15:24:16.490671Z",
     "iopub.status.idle": "2024-02-26T15:24:16.911901Z",
     "shell.execute_reply": "2024-02-26T15:24:16.910772Z"
    },
    "papermill": {
     "duration": 0.431252,
     "end_time": "2024-02-26T15:24:16.914429",
     "exception": false,
     "start_time": "2024-02-26T15:24:16.483177",
     "status": "completed"
    },
    "tags": []
   },
   "outputs": [],
   "source": [
    "X_train, X_val, Y_train, Y_val = train_test_split(train_x, train_y, test_size = 0.1, random_state=2)"
   ]
  },
  {
   "cell_type": "code",
   "execution_count": 10,
   "id": "2cb2ba36",
   "metadata": {
    "execution": {
     "iopub.execute_input": "2024-02-26T15:24:16.929233Z",
     "iopub.status.busy": "2024-02-26T15:24:16.928833Z",
     "iopub.status.idle": "2024-02-26T15:24:17.122522Z",
     "shell.execute_reply": "2024-02-26T15:24:17.121472Z"
    },
    "papermill": {
     "duration": 0.203567,
     "end_time": "2024-02-26T15:24:17.124614",
     "exception": false,
     "start_time": "2024-02-26T15:24:16.921047",
     "status": "completed"
    },
    "tags": []
   },
   "outputs": [
    {
     "data": {
      "image/png": "[encoded data removed]",
      "text/plain": [
       "<Figure size 640x480 with 1 Axes>"
      ]
     },
     "metadata": {},
     "output_type": "display_data"
    }
   ],
   "source": [
    "g = plt.imshow(X_train[0][:,:,0])"
   ]
  },
  {
   "cell_type": "markdown",
   "id": "1add4916",
   "metadata": {
    "papermill": {
     "duration": 0.006331,
     "end_time": "2024-02-26T15:24:17.137445",
     "exception": false,
     "start_time": "2024-02-26T15:24:17.131114",
     "status": "completed"
    },
    "tags": []
   },
   "source": [
    "**Set the model**"
   ]
  },
  {
   "cell_type": "code",
   "execution_count": 11,
   "id": "d6857f15",
   "metadata": {
    "execution": {
     "iopub.execute_input": "2024-02-26T15:24:17.152150Z",
     "iopub.status.busy": "2024-02-26T15:24:17.151719Z",
     "iopub.status.idle": "2024-02-26T15:24:17.355157Z",
     "shell.execute_reply": "2024-02-26T15:24:17.353948Z"
    },
    "papermill": {
     "duration": 0.214359,
     "end_time": "2024-02-26T15:24:17.358218",
     "exception": false,
     "start_time": "2024-02-26T15:24:17.143859",
     "status": "completed"
    },
    "tags": []
   },
   "outputs": [],
   "source": [
    "model = Sequential()\n",
    "\n",
    "model.add(Conv2D(filters = 32, kernel_size = (5,5),padding = 'Same', activation ='relu', input_shape = (28,28,1)))\n",
    "model.add(Conv2D(filters = 32, kernel_size = (5,5),padding = 'Same', activation ='relu'))\n",
    "model.add(MaxPool2D(pool_size=(2,2)))\n",
    "model.add(Dropout(0.25))\n",
    "\n",
    "model.add(Conv2D(filters = 64, kernel_size = (3,3),padding = 'Same', activation ='relu'))\n",
    "model.add(Conv2D(filters = 64, kernel_size = (3,3),padding = 'Same', activation ='relu'))\n",
    "model.add(MaxPool2D(pool_size=(2,2), strides=(2,2)))\n",
    "model.add(Dropout(0.25))\n",
    "\n",
    "model.add(Flatten())\n",
    "model.add(Dense(256, activation = \"relu\"))\n",
    "model.add(Dropout(0.5))\n",
    "model.add(Dense(10, activation = \"softmax\"))"
   ]
  },
  {
   "cell_type": "code",
   "execution_count": 12,
   "id": "17b5151a",
   "metadata": {
    "execution": {
     "iopub.execute_input": "2024-02-26T15:24:17.374621Z",
     "iopub.status.busy": "2024-02-26T15:24:17.373462Z",
     "iopub.status.idle": "2024-02-26T15:26:40.698991Z",
     "shell.execute_reply": "2024-02-26T15:26:40.697468Z"
    },
    "papermill": {
     "duration": 143.336653,
     "end_time": "2024-02-26T15:26:40.701961",
     "exception": false,
     "start_time": "2024-02-26T15:24:17.365308",
     "status": "completed"
    },
    "tags": []
   },
   "outputs": [
    {
     "name": "stdout",
     "output_type": "stream",
     "text": [
      "440/440 - 102s - loss: 0.2455 - accuracy: 0.9235 - val_loss: 0.1170 - val_accuracy: 0.9619 - 102s/epoch - 233ms/step\n"
     ]
    }
   ],
   "source": [
    "optimizer = RMSprop(lr=0.001, rho=0.9, epsilon=1e-08)\n",
    "model.compile(optimizer = optimizer , loss = \"categorical_crossentropy\", metrics=[\"accuracy\"])\n",
    "history = model.fit(X_train, Y_train, batch_size = 86, epochs = 1, \n",
    "         validation_data = (X_val, Y_val), verbose = 2)"
   ]
  },
  {
   "cell_type": "markdown",
   "id": "4e3712ee",
   "metadata": {
    "papermill": {
     "duration": 0.00633,
     "end_time": "2024-02-26T15:26:40.715461",
     "exception": false,
     "start_time": "2024-02-26T15:26:40.709131",
     "status": "completed"
    },
    "tags": []
   },
   "source": [
    "**Evalutaion**"
   ]
  },
  {
   "cell_type": "code",
   "execution_count": 13,
   "id": "0327819c",
   "metadata": {
    "execution": {
     "iopub.execute_input": "2024-02-26T15:26:40.730619Z",
     "iopub.status.busy": "2024-02-26T15:26:40.730241Z",
     "iopub.status.idle": "2024-02-26T15:26:41.115385Z",
     "shell.execute_reply": "2024-02-26T15:26:41.114246Z"
    },
    "papermill": {
     "duration": 0.395437,
     "end_time": "2024-02-26T15:26:41.117607",
     "exception": false,
     "start_time": "2024-02-26T15:26:40.722170",
     "status": "completed"
    },
    "tags": []
   },
   "outputs": [
    {
     "data": {
      "image/png": "[encoded data removed]",
      "text/plain": [
       "<Figure size 640x480 with 2 Axes>"
      ]
     },
     "metadata": {},
     "output_type": "display_data"
    }
   ],
   "source": [
    "fig, ax = plt.subplots(2,1)\n",
    "ax[0].plot(history.history['loss'], color='b', label=\"Training loss\")\n",
    "ax[0].plot(history.history['val_loss'], color='r', label=\"validation loss\",axes =ax[0])\n",
    "legend = ax[0].legend(loc='best', shadow=True)\n",
    "\n",
    "ax[1].plot(history.history['accuracy'], color='b', label=\"Training accuracy\")\n",
    "ax[1].plot(history.history['val_accuracy'], color='r',label=\"Validation accuracy\")\n",
    "legend = ax[1].legend(loc='best', shadow=True)"
   ]
  },
  {
   "cell_type": "markdown",
   "id": "6fd58c54",
   "metadata": {
    "papermill": {
     "duration": 0.006946,
     "end_time": "2024-02-26T15:26:41.131913",
     "exception": false,
     "start_time": "2024-02-26T15:26:41.124967",
     "status": "completed"
    },
    "tags": []
   },
   "source": [
    "**Results**"
   ]
  },
  {
   "cell_type": "code",
   "execution_count": 14,
   "id": "ad7c9bf1",
   "metadata": {
    "execution": {
     "iopub.execute_input": "2024-02-26T15:26:41.147926Z",
     "iopub.status.busy": "2024-02-26T15:26:41.147505Z",
     "iopub.status.idle": "2024-02-26T15:27:02.270700Z",
     "shell.execute_reply": "2024-02-26T15:27:02.269527Z"
    },
    "papermill": {
     "duration": 21.134134,
     "end_time": "2024-02-26T15:27:02.273204",
     "exception": false,
     "start_time": "2024-02-26T15:26:41.139070",
     "status": "completed"
    },
    "tags": []
   },
   "outputs": [
    {
     "name": "stdout",
     "output_type": "stream",
     "text": [
      "875/875 [==============================] - 20s 23ms/step\n"
     ]
    }
   ],
   "source": [
    "predictions = model.predict(test)\n",
    "\n",
    "# select the indix with the maximum probability\n",
    "predictions = np.argmax(predictions,axis = 1)\n",
    "\n",
    "predictions = pd.Series(predictions,name=\"Label\")\n",
    "\n",
    "submission = pd.concat([pd.Series(range(1,28001),name = \"ImageId\"),predictions],axis = 1)\n",
    "\n",
    "submission.to_csv(\"cnn_mnist_datagen.csv\",index=False)"
   ]
  }
 ],
 "metadata": {
  "kaggle": {
   "accelerator": "none",
   "dataSources": [
    {
     "databundleVersionId": 861823,
     "sourceId": 3004,
     "sourceType": "competition"
    }
   ],
   "dockerImageVersionId": 30646,
   "isGpuEnabled": false,
   "isInternetEnabled": true,
   "language": "python",
   "sourceType": "notebook"
  },
  "kernelspec": {
   "display_name": "Python 3",
   "language": "python",
   "name": "python3"
  },
  "language_info": {
   "codemirror_mode": {
    "name": "ipython",
    "version": 3
   },
   "file_extension": ".py",
   "mimetype": "text/x-python",
   "name": "python",
   "nbconvert_exporter": "python",
   "pygments_lexer": "ipython3",
   "version": "3.10.13"
  },
  "papermill": {
   "default_parameters": {},
   "duration": 192.70317,
   "end_time": "2024-02-26T15:27:04.026376",
   "environment_variables": {},
   "exception": null,
   "input_path": "__notebook__.ipynb",
   "output_path": "__notebook__.ipynb",
   "parameters": {},
   "start_time": "2024-02-26T15:23:51.323206",
   "version": "2.5.0"
  }
 },
 "nbformat": 4,
 "nbformat_minor": 5
}
